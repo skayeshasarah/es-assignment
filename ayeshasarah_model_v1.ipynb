{
 "cells": [
  {
   "cell_type": "markdown",
   "id": "ae56c2b7",
   "metadata": {},
   "source": [
    "# Assignment by Ayesha Sarah Shaik"
   ]
  },
  {
   "cell_type": "markdown",
   "id": "b9623311",
   "metadata": {},
   "source": [
    "Breast Cancer Dataset Model_1"
   ]
  },
  {
   "cell_type": "markdown",
   "id": "c8387e79",
   "metadata": {},
   "source": [
    "Name: Ayesha Sarah Shaik Student ID: 100907046"
   ]
  },
  {
   "cell_type": "code",
   "execution_count": 1,
   "id": "8a400c85",
   "metadata": {},
   "outputs": [],
   "source": [
    "#Importing all the required libraries\n",
    "\n",
    "import pandas as pd\n",
    "import numpy as np\n",
    "import matplotlib.pyplot as plt\n",
    "import seaborn as sns\n",
    "from sklearn.model_selection import train_test_split\n",
    "from sklearn.preprocessing import StandardScaler\n",
    "from sklearn.linear_model import LogisticRegression\n",
    "from sklearn.metrics import accuracy_score, confusion_matrix"
   ]
  },
  {
   "cell_type": "code",
   "execution_count": 2,
   "id": "3195056b",
   "metadata": {},
   "outputs": [
    {
     "name": "stdout",
     "output_type": "stream",
     "text": [
      "        id  clump_thickness  uniformity_cell_size  uniformity_cell_shape  \\\n",
      "0  1000025                5                     1                      1   \n",
      "1  1002945                5                     4                      4   \n",
      "2  1015425                3                     1                      1   \n",
      "3  1016277                6                     8                      8   \n",
      "4  1017023                4                     1                      1   \n",
      "\n",
      "   marginal_adhesion  single_epithelial_size bare_nuclei  bland_chromatin  \\\n",
      "0                  1                       2           1                3   \n",
      "1                  5                       7          10                3   \n",
      "2                  1                       2           2                3   \n",
      "3                  1                       3           4                3   \n",
      "4                  3                       2           1                3   \n",
      "\n",
      "   normal_nucleoli  mitoses  class  \n",
      "0                1        1      2  \n",
      "1                2        1      2  \n",
      "2                1        1      2  \n",
      "3                7        1      2  \n",
      "4                1        1      2  \n",
      "                 id  clump_thickness  uniformity_cell_size  \\\n",
      "count  6.990000e+02       699.000000            699.000000   \n",
      "mean   1.071704e+06         4.417740              3.134478   \n",
      "std    6.170957e+05         2.815741              3.051459   \n",
      "min    6.163400e+04         1.000000              1.000000   \n",
      "25%    8.706885e+05         2.000000              1.000000   \n",
      "50%    1.171710e+06         4.000000              1.000000   \n",
      "75%    1.238298e+06         6.000000              5.000000   \n",
      "max    1.345435e+07        10.000000             10.000000   \n",
      "\n",
      "       uniformity_cell_shape  marginal_adhesion  single_epithelial_size  \\\n",
      "count             699.000000         699.000000              699.000000   \n",
      "mean                3.207439           2.806867                3.216023   \n",
      "std                 2.971913           2.855379                2.214300   \n",
      "min                 1.000000           1.000000                1.000000   \n",
      "25%                 1.000000           1.000000                2.000000   \n",
      "50%                 1.000000           1.000000                2.000000   \n",
      "75%                 5.000000           4.000000                4.000000   \n",
      "max                10.000000          10.000000               10.000000   \n",
      "\n",
      "       bland_chromatin  normal_nucleoli     mitoses       class  \n",
      "count       699.000000       699.000000  699.000000  699.000000  \n",
      "mean          3.437768         2.866953    1.589413    2.689557  \n",
      "std           2.438364         3.053634    1.715078    0.951273  \n",
      "min           1.000000         1.000000    1.000000    2.000000  \n",
      "25%           2.000000         1.000000    1.000000    2.000000  \n",
      "50%           3.000000         1.000000    1.000000    2.000000  \n",
      "75%           5.000000         4.000000    1.000000    4.000000  \n",
      "max          10.000000        10.000000   10.000000    4.000000  \n"
     ]
    }
   ],
   "source": [
    "# Loading the dataset\n",
    "url = \"https://archive.ics.uci.edu/ml/machine-learning-databases/breast-cancer-wisconsin/breast-cancer-wisconsin.data\"\n",
    "column_names = [\"id\", \"clump_thickness\", \"uniformity_cell_size\", \"uniformity_cell_shape\",\n",
    "                \"marginal_adhesion\", \"single_epithelial_size\", \"bare_nuclei\",\n",
    "                \"bland_chromatin\", \"normal_nucleoli\", \"mitoses\", \"class\"]\n",
    "data = pd.read_csv(url, header=None, names=column_names)\n",
    "\n",
    "# Exploring the dataset\n",
    "print(data.head())\n",
    "print(data.describe())"
   ]
  },
  {
   "cell_type": "code",
   "execution_count": 3,
   "id": "f1af9607",
   "metadata": {},
   "outputs": [],
   "source": [
    "# Removing the \"id\" column because it is not important for predicting diagnoses.\n",
    "data.drop(\"id\", axis=1, inplace=True)\n",
    "\n",
    "# Handle missing values\n",
    "data[\"bare_nuclei\"] = pd.to_numeric(data[\"bare_nuclei\"], errors=\"coerce\")\n",
    "data.dropna(inplace=True)\n",
    "\n",
    "# Split the data \n",
    "X = data.drop(\"class\", axis=1)\n",
    "y = data[\"class\"]\n",
    "\n",
    "# Split the data into training and testing sets\n",
    "X_train, X_test, y_train, y_test = train_test_split(X, y, test_size=0.2, random_state=42)"
   ]
  },
  {
   "cell_type": "code",
   "execution_count": 4,
   "id": "c7d52cdd",
   "metadata": {},
   "outputs": [],
   "source": [
    "# Scale the features using StandardScaler\n",
    "scaler = StandardScaler()\n",
    "X_train_scaled = scaler.fit_transform(X_train)\n",
    "X_test_scaled = scaler.transform(X_test)"
   ]
  },
  {
   "cell_type": "code",
   "execution_count": 5,
   "id": "856cf2ba",
   "metadata": {},
   "outputs": [
    {
     "data": {
      "text/html": [
       "<style>#sk-container-id-1 {color: black;background-color: white;}#sk-container-id-1 pre{padding: 0;}#sk-container-id-1 div.sk-toggleable {background-color: white;}#sk-container-id-1 label.sk-toggleable__label {cursor: pointer;display: block;width: 100%;margin-bottom: 0;padding: 0.3em;box-sizing: border-box;text-align: center;}#sk-container-id-1 label.sk-toggleable__label-arrow:before {content: \"▸\";float: left;margin-right: 0.25em;color: #696969;}#sk-container-id-1 label.sk-toggleable__label-arrow:hover:before {color: black;}#sk-container-id-1 div.sk-estimator:hover label.sk-toggleable__label-arrow:before {color: black;}#sk-container-id-1 div.sk-toggleable__content {max-height: 0;max-width: 0;overflow: hidden;text-align: left;background-color: #f0f8ff;}#sk-container-id-1 div.sk-toggleable__content pre {margin: 0.2em;color: black;border-radius: 0.25em;background-color: #f0f8ff;}#sk-container-id-1 input.sk-toggleable__control:checked~div.sk-toggleable__content {max-height: 200px;max-width: 100%;overflow: auto;}#sk-container-id-1 input.sk-toggleable__control:checked~label.sk-toggleable__label-arrow:before {content: \"▾\";}#sk-container-id-1 div.sk-estimator input.sk-toggleable__control:checked~label.sk-toggleable__label {background-color: #d4ebff;}#sk-container-id-1 div.sk-label input.sk-toggleable__control:checked~label.sk-toggleable__label {background-color: #d4ebff;}#sk-container-id-1 input.sk-hidden--visually {border: 0;clip: rect(1px 1px 1px 1px);clip: rect(1px, 1px, 1px, 1px);height: 1px;margin: -1px;overflow: hidden;padding: 0;position: absolute;width: 1px;}#sk-container-id-1 div.sk-estimator {font-family: monospace;background-color: #f0f8ff;border: 1px dotted black;border-radius: 0.25em;box-sizing: border-box;margin-bottom: 0.5em;}#sk-container-id-1 div.sk-estimator:hover {background-color: #d4ebff;}#sk-container-id-1 div.sk-parallel-item::after {content: \"\";width: 100%;border-bottom: 1px solid gray;flex-grow: 1;}#sk-container-id-1 div.sk-label:hover label.sk-toggleable__label {background-color: #d4ebff;}#sk-container-id-1 div.sk-serial::before {content: \"\";position: absolute;border-left: 1px solid gray;box-sizing: border-box;top: 0;bottom: 0;left: 50%;z-index: 0;}#sk-container-id-1 div.sk-serial {display: flex;flex-direction: column;align-items: center;background-color: white;padding-right: 0.2em;padding-left: 0.2em;position: relative;}#sk-container-id-1 div.sk-item {position: relative;z-index: 1;}#sk-container-id-1 div.sk-parallel {display: flex;align-items: stretch;justify-content: center;background-color: white;position: relative;}#sk-container-id-1 div.sk-item::before, #sk-container-id-1 div.sk-parallel-item::before {content: \"\";position: absolute;border-left: 1px solid gray;box-sizing: border-box;top: 0;bottom: 0;left: 50%;z-index: -1;}#sk-container-id-1 div.sk-parallel-item {display: flex;flex-direction: column;z-index: 1;position: relative;background-color: white;}#sk-container-id-1 div.sk-parallel-item:first-child::after {align-self: flex-end;width: 50%;}#sk-container-id-1 div.sk-parallel-item:last-child::after {align-self: flex-start;width: 50%;}#sk-container-id-1 div.sk-parallel-item:only-child::after {width: 0;}#sk-container-id-1 div.sk-dashed-wrapped {border: 1px dashed gray;margin: 0 0.4em 0.5em 0.4em;box-sizing: border-box;padding-bottom: 0.4em;background-color: white;}#sk-container-id-1 div.sk-label label {font-family: monospace;font-weight: bold;display: inline-block;line-height: 1.2em;}#sk-container-id-1 div.sk-label-container {text-align: center;}#sk-container-id-1 div.sk-container {/* jupyter's `normalize.less` sets `[hidden] { display: none; }` but bootstrap.min.css set `[hidden] { display: none !important; }` so we also need the `!important` here to be able to override the default hidden behavior on the sphinx rendered scikit-learn.org. See: https://github.com/scikit-learn/scikit-learn/issues/21755 */display: inline-block !important;position: relative;}#sk-container-id-1 div.sk-text-repr-fallback {display: none;}</style><div id=\"sk-container-id-1\" class=\"sk-top-container\"><div class=\"sk-text-repr-fallback\"><pre>LogisticRegression()</pre><b>In a Jupyter environment, please rerun this cell to show the HTML representation or trust the notebook. <br />On GitHub, the HTML representation is unable to render, please try loading this page with nbviewer.org.</b></div><div class=\"sk-container\" hidden><div class=\"sk-item\"><div class=\"sk-estimator sk-toggleable\"><input class=\"sk-toggleable__control sk-hidden--visually\" id=\"sk-estimator-id-1\" type=\"checkbox\" checked><label for=\"sk-estimator-id-1\" class=\"sk-toggleable__label sk-toggleable__label-arrow\">LogisticRegression</label><div class=\"sk-toggleable__content\"><pre>LogisticRegression()</pre></div></div></div></div></div>"
      ],
      "text/plain": [
       "LogisticRegression()"
      ]
     },
     "execution_count": 5,
     "metadata": {},
     "output_type": "execute_result"
    }
   ],
   "source": [
    "# Train a logistic regression model\n",
    "modelL = LogisticRegression()\n",
    "modelL.fit(X_train_scaled, y_train)"
   ]
  },
  {
   "cell_type": "code",
   "execution_count": 7,
   "id": "9c611cd5",
   "metadata": {},
   "outputs": [
    {
     "name": "stdout",
     "output_type": "stream",
     "text": [
      "Accuracy: 0.9562043795620438\n",
      "Confusion Matrix:\n",
      "[[78  1]\n",
      " [ 5 53]]\n"
     ]
    }
   ],
   "source": [
    "# Make predictions on the test data\n",
    "y_pred = modelL.predict(X_test_scaled)\n",
    "\n",
    "# Calculate the accuracy of the model\n",
    "accuracy = accuracy_score(y_test, y_pred)\n",
    "print(\"Accuracy:\", accuracy)\n",
    "\n",
    "# Create a confusion matrix\n",
    "con = confusion_matrix(y_test, y_pred)\n",
    "print(\"Confusion Matrix:\")\n",
    "print(con)"
   ]
  },
  {
   "cell_type": "code",
   "execution_count": null,
   "id": "4bef7db2",
   "metadata": {},
   "outputs": [],
   "source": []
  }
 ],
 "metadata": {
  "kernelspec": {
   "display_name": "Python 3 (ipykernel)",
   "language": "python",
   "name": "python3"
  },
  "language_info": {
   "codemirror_mode": {
    "name": "ipython",
    "version": 3
   },
   "file_extension": ".py",
   "mimetype": "text/x-python",
   "name": "python",
   "nbconvert_exporter": "python",
   "pygments_lexer": "ipython3",
   "version": "3.9.13"
  }
 },
 "nbformat": 4,
 "nbformat_minor": 5
}
